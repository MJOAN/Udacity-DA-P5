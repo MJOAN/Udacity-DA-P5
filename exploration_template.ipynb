{
 "cells": [
  {
   "cell_type": "markdown",
   "metadata": {},
   "source": [
    "# Prosper Loan Data Findings\n",
    "## by Mariam Joan\n",
    "\n",
    "## Preliminary Wrangling\n",
    "\n",
    "> Briefly introduce your dataset here."
   ]
  },
  {
   "cell_type": "code",
   "execution_count": 54,
   "metadata": {},
   "outputs": [],
   "source": [
    "import numpy as np\n",
    "import pandas as pd\n",
    "\n",
    "\n",
    "import matplotlib.pyplot as plt\n",
    "from matplotlib import colors\n",
    "from matplotlib.pyplot import figure, show\n",
    "from matplotlib.ticker import PercentFormatter\n",
    "\n",
    "\n",
    "import seaborn as sb\n",
    "from seaborn import countplot\n",
    "\n",
    "\n",
    "%matplotlib inline"
   ]
  },
  {
   "cell_type": "markdown",
   "metadata": {},
   "source": [
    "> Load in your dataset and describe its properties through the questions below.\n",
    "Try and motivate your exploration goals through this section."
   ]
  },
  {
   "cell_type": "code",
   "execution_count": 4,
   "metadata": {},
   "outputs": [],
   "source": [
    "prosper = pd.read_csv('prosperLoanData.csv')"
   ]
  },
  {
   "cell_type": "code",
   "execution_count": 5,
   "metadata": {},
   "outputs": [],
   "source": [
    "prosper_clean = prosper.copy()"
   ]
  },
  {
   "cell_type": "code",
   "execution_count": 6,
   "metadata": {},
   "outputs": [
    {
     "data": {
      "text/plain": [
       "(113937, 81)"
      ]
     },
     "execution_count": 6,
     "metadata": {},
     "output_type": "execute_result"
    }
   ],
   "source": [
    "prosper.shape"
   ]
  },
  {
   "cell_type": "code",
   "execution_count": 7,
   "metadata": {},
   "outputs": [],
   "source": [
    "# prosper.info()"
   ]
  },
  {
   "cell_type": "code",
   "execution_count": 8,
   "metadata": {},
   "outputs": [],
   "source": [
    "# prosper.describe()"
   ]
  },
  {
   "cell_type": "code",
   "execution_count": 9,
   "metadata": {
    "scrolled": true
   },
   "outputs": [],
   "source": [
    "# prosper.dtypes"
   ]
  },
  {
   "cell_type": "code",
   "execution_count": 10,
   "metadata": {},
   "outputs": [
    {
     "data": {
      "text/html": [
       "<div>\n",
       "<style scoped>\n",
       "    .dataframe tbody tr th:only-of-type {\n",
       "        vertical-align: middle;\n",
       "    }\n",
       "\n",
       "    .dataframe tbody tr th {\n",
       "        vertical-align: top;\n",
       "    }\n",
       "\n",
       "    .dataframe thead th {\n",
       "        text-align: right;\n",
       "    }\n",
       "</style>\n",
       "<table border=\"1\" class=\"dataframe\">\n",
       "  <thead>\n",
       "    <tr style=\"text-align: right;\">\n",
       "      <th></th>\n",
       "      <th>ListingKey</th>\n",
       "      <th>ListingNumber</th>\n",
       "      <th>ListingCreationDate</th>\n",
       "      <th>CreditGrade</th>\n",
       "      <th>Term</th>\n",
       "      <th>LoanStatus</th>\n",
       "      <th>ClosedDate</th>\n",
       "      <th>BorrowerAPR</th>\n",
       "      <th>BorrowerRate</th>\n",
       "      <th>LenderYield</th>\n",
       "      <th>...</th>\n",
       "      <th>LP_ServiceFees</th>\n",
       "      <th>LP_CollectionFees</th>\n",
       "      <th>LP_GrossPrincipalLoss</th>\n",
       "      <th>LP_NetPrincipalLoss</th>\n",
       "      <th>LP_NonPrincipalRecoverypayments</th>\n",
       "      <th>PercentFunded</th>\n",
       "      <th>Recommendations</th>\n",
       "      <th>InvestmentFromFriendsCount</th>\n",
       "      <th>InvestmentFromFriendsAmount</th>\n",
       "      <th>Investors</th>\n",
       "    </tr>\n",
       "  </thead>\n",
       "  <tbody>\n",
       "    <tr>\n",
       "      <th>0</th>\n",
       "      <td>1021339766868145413AB3B</td>\n",
       "      <td>193129</td>\n",
       "      <td>2007-08-26 19:09:29.263000000</td>\n",
       "      <td>C</td>\n",
       "      <td>36</td>\n",
       "      <td>Completed</td>\n",
       "      <td>2009-08-14 00:00:00</td>\n",
       "      <td>0.16516</td>\n",
       "      <td>0.158</td>\n",
       "      <td>0.138</td>\n",
       "      <td>...</td>\n",
       "      <td>-133.18</td>\n",
       "      <td>0.0</td>\n",
       "      <td>0.0</td>\n",
       "      <td>0.0</td>\n",
       "      <td>0.0</td>\n",
       "      <td>1.0</td>\n",
       "      <td>0</td>\n",
       "      <td>0</td>\n",
       "      <td>0.0</td>\n",
       "      <td>258</td>\n",
       "    </tr>\n",
       "  </tbody>\n",
       "</table>\n",
       "<p>1 rows × 81 columns</p>\n",
       "</div>"
      ],
      "text/plain": [
       "                ListingKey  ListingNumber            ListingCreationDate  \\\n",
       "0  1021339766868145413AB3B         193129  2007-08-26 19:09:29.263000000   \n",
       "\n",
       "  CreditGrade  Term LoanStatus           ClosedDate  BorrowerAPR  \\\n",
       "0           C    36  Completed  2009-08-14 00:00:00      0.16516   \n",
       "\n",
       "   BorrowerRate  LenderYield    ...     LP_ServiceFees  LP_CollectionFees  \\\n",
       "0         0.158        0.138    ...            -133.18                0.0   \n",
       "\n",
       "   LP_GrossPrincipalLoss  LP_NetPrincipalLoss LP_NonPrincipalRecoverypayments  \\\n",
       "0                    0.0                  0.0                             0.0   \n",
       "\n",
       "   PercentFunded  Recommendations InvestmentFromFriendsCount  \\\n",
       "0            1.0                0                          0   \n",
       "\n",
       "  InvestmentFromFriendsAmount Investors  \n",
       "0                         0.0       258  \n",
       "\n",
       "[1 rows x 81 columns]"
      ]
     },
     "execution_count": 10,
     "metadata": {},
     "output_type": "execute_result"
    }
   ],
   "source": [
    "prosper.head(1)"
   ]
  },
  {
   "cell_type": "code",
   "execution_count": 11,
   "metadata": {},
   "outputs": [],
   "source": [
    "# prosper_clean.isnull().sum()"
   ]
  },
  {
   "cell_type": "code",
   "execution_count": 12,
   "metadata": {},
   "outputs": [
    {
     "data": {
      "text/plain": [
       "(7622, 91852)"
      ]
     },
     "execution_count": 12,
     "metadata": {},
     "output_type": "execute_result"
    }
   ],
   "source": [
    "prosper_clean.AmountDelinquent.isnull().values.sum(), prosper_clean.TotalProsperLoans.isnull().values.sum() "
   ]
  },
  {
   "cell_type": "code",
   "execution_count": 13,
   "metadata": {},
   "outputs": [],
   "source": [
    "prosper_clean.fillna(0, inplace=True)"
   ]
  },
  {
   "cell_type": "markdown",
   "metadata": {},
   "source": [
    "##### check df which columns are \"categorical\" or non-numeric"
   ]
  },
  {
   "cell_type": "code",
   "execution_count": 14,
   "metadata": {},
   "outputs": [
    {
     "data": {
      "text/plain": [
       "['MemberKey',\n",
       " 'ClosedDate',\n",
       " 'GroupKey',\n",
       " 'CreditGrade',\n",
       " 'LoanOriginationDate',\n",
       " 'IncomeRange',\n",
       " 'FirstRecordedCreditLine',\n",
       " 'ListingCreationDate',\n",
       " 'BorrowerState',\n",
       " 'LoanOriginationQuarter',\n",
       " 'LoanStatus',\n",
       " 'ListingKey',\n",
       " 'LoanKey',\n",
       " 'ProsperRating (Alpha)',\n",
       " 'Occupation',\n",
       " 'DateCreditPulled',\n",
       " 'EmploymentStatus']"
      ]
     },
     "execution_count": 14,
     "metadata": {},
     "output_type": "execute_result"
    }
   ],
   "source": [
    "cols = prosper_clean.columns # cite 1\n",
    "num_cols = prosper_clean._get_numeric_data().columns\n",
    "list(set(cols) - set(num_cols))"
   ]
  },
  {
   "cell_type": "code",
   "execution_count": 15,
   "metadata": {},
   "outputs": [],
   "source": [
    "prosper_clean.drop(columns=['DelinquenciesLast7Years','RevolvingCreditBalance','BankcardUtilization',\n",
    "                            'TradesOpenedLast6Months','IncomeVerifiable','TotalProsperPaymentsBilled',\n",
    "                            'LoanFirstDefaultedCycleNumber','LoanNumber','ProsperRating (numeric)',\n",
    "                            'ProsperRating (Alpha)','LoanKey','ListingKey','LenderYield',\n",
    "                            'EstimatedEffectiveYield','CurrentlyInGroup','GroupKey','FirstRecordedCreditLine',\n",
    "                            'CurrentCreditLines','OpenCreditLines','TotalCreditLinespast7years',\n",
    "                            'OpenRevolvingAccounts','OpenRevolvingMonthlyPayment','InquiriesLast6Months',\n",
    "                            'TotalInquiries','PublicRecordsLast10Years','PublicRecordsLast12Months','TotalTrades',\n",
    "                            'LoanOriginationQuarter','LP_CustomerPayments','LP_CustomerPrincipalPayments',\n",
    "                            'LP_InterestandFees','LP_ServiceFees','LP_CollectionFees','LP_GrossPrincipalLoss',\n",
    "                            'LP_NetPrincipalLoss','LP_NonPrincipalRecoverypayments', 'LP_CustomerPrincipalPayments', \n",
    "                            'LP_InterestandFees', 'LP_ServiceFees', 'LP_CollectionFees', 'LP_GrossPrincipalLoss', \n",
    "                            'LP_NetPrincipalLoss','LP_NonPrincipalRecoverypayments'], axis=1, inplace=True)"
   ]
  },
  {
   "cell_type": "code",
   "execution_count": 16,
   "metadata": {},
   "outputs": [],
   "source": [
    "prosper_clean = prosper_clean.rename(columns={\"ListingCategory (numeric)\": \"ListingCategory\"})"
   ]
  },
  {
   "cell_type": "code",
   "execution_count": 17,
   "metadata": {},
   "outputs": [
    {
     "data": {
      "text/plain": [
       "array(['$25,000-49,999', '$50,000-74,999', 'Not displayed', '$100,000+',\n",
       "       '$75,000-99,999', '$1-24,999', 'Not employed', '$0'], dtype=object)"
      ]
     },
     "execution_count": 17,
     "metadata": {},
     "output_type": "execute_result"
    }
   ],
   "source": [
    "prosper_clean.IncomeRange.unique()"
   ]
  },
  {
   "cell_type": "code",
   "execution_count": 18,
   "metadata": {},
   "outputs": [],
   "source": [
    "ordinal_var_dict = {\n",
    "            'Occupation': ['Other', 'Professional', 'Skilled Labor', 'Executive',\n",
    "               'Sales - Retail', 'Laborer', 'Food Service', 'Fireman',\n",
    "               'Waiter/Waitress', 'Construction', 'Computer Programmer',\n",
    "               'Sales - Commission', 'Retail Management', 'Engineer - Mechanical',\n",
    "               'Military Enlisted', 'Clerical', 'Teacher', 'Clergy',\n",
    "               'Accountant/CPA', 'Attorney', 'Nurse (RN)', 'Analyst',\n",
    "               \"Nurse's Aide\", 'Investor', 'Realtor', 'Flight Attendant',\n",
    "               'Nurse (LPN)', 'Military Officer', 'Food Service Management',\n",
    "               'Truck Driver', 'Administrative Assistant',\n",
    "               'Police Officer/Correction Officer', 'Social Worker',\n",
    "               'Tradesman - Mechanic', 'Medical Technician', 'Professor',\n",
    "               'Postal Service', 'Civil Service', 'Pharmacist',\n",
    "               'Tradesman - Electrician', 'Scientist', 'Dentist',\n",
    "               'Engineer - Electrical', 'Architect', 'Landscaping',\n",
    "               'Tradesman - Carpenter', 'Bus Driver', 'Tradesman - Plumber',\n",
    "               'Engineer - Chemical', 'Doctor', 'Chemist',\n",
    "               'Student - College Senior', 'Principal', \"Teacher's Aide\",\n",
    "               'Pilot - Private/Commercial', 'Religious', 'Homemaker',\n",
    "               'Student - College Graduate Student', 'Student - Technical School',\n",
    "               'Psychologist', 'Biologist', 'Student - College Sophomore',\n",
    "               'Judge', 'Student - College Junior', 'Car Dealer',\n",
    "               'Student - Community College', 'Student - College Freshman'],\n",
    "            'ListingCategory': [0, 2, 16, 1, 7, 13, 6, 15, 20, 19, 3, 18, 8, \n",
    "                4, 11, 14, 5, 9, 17, 10, 12],\n",
    "            'CreditGrade':['C', 'HR', 'AA', 'D', 'B', 'E', 'A', 'NC'],\n",
    "            'LoanStatus': ['Completed', 'Current', 'Past Due (1-15 days)', 'Defaulted',\n",
    "               'Chargedoff', 'Past Due (16-30 days)', 'Cancelled',\n",
    "               'Past Due (61-90 days)', 'Past Due (31-60 days)',\n",
    "               'Past Due (91-120 days)', 'FinalPaymentInProgress',\n",
    "               'Past Due (>120 days)'], \n",
    "            'BorrowerState': ['CO', 'GA', 'MN', 'NM', 'KS', 'CA', 'IL', 'MD', 'AL', 'AZ',\n",
    "               'VA', 'FL', 'PA', 'OR', 'MI', 'NY', 'LA', 'WI', 'OH', 'NC', 'WA',\n",
    "               'NV', 'NJ', 'TX', 'AR', 'SC', 'DE', 'MO', 'NE', 'UT', 'DC', 'MA',\n",
    "               'CT', 'IN', 'KY', 'OK', 'MS', 'WV', 'RI', 'TN', 'ID', 'MT', 'HI',\n",
    "               'NH', 'VT', 'WY', 'ME', 'AK', 'IA', 'SD', 'ND'],\n",
    "            'EmploymentStatus':['Self-employed', 'Employed', 'Not available', 'Full-time', 'Other',\n",
    "                 'Not employed', 'Part-time', 'Retired'],\n",
    "            'IncomeRange':['$25,000-49,999', '$50,000-74,999', 'Not displayed', '$100,000+',\n",
    "               '$75,000-99,999', '$1-24,999', 'Not employed', '$0']}\n",
    "    \n",
    "for var in ordinal_var_dict:\n",
    "    ordered_var = pd.api.types.CategoricalDtype(ordered = True,categories = ordinal_var_dict[var])\n",
    "    prosper_clean[var] = prosper_clean[var].astype(ordered_var)"
   ]
  },
  {
   "cell_type": "code",
   "execution_count": 19,
   "metadata": {
    "scrolled": true
   },
   "outputs": [
    {
     "data": {
      "text/html": [
       "<div>\n",
       "<style scoped>\n",
       "    .dataframe tbody tr th:only-of-type {\n",
       "        vertical-align: middle;\n",
       "    }\n",
       "\n",
       "    .dataframe tbody tr th {\n",
       "        vertical-align: top;\n",
       "    }\n",
       "\n",
       "    .dataframe thead th {\n",
       "        text-align: right;\n",
       "    }\n",
       "</style>\n",
       "<table border=\"1\" class=\"dataframe\">\n",
       "  <thead>\n",
       "    <tr style=\"text-align: right;\">\n",
       "      <th></th>\n",
       "      <th>CreditGrade</th>\n",
       "      <th>LoanStatus</th>\n",
       "      <th>ListingCategory</th>\n",
       "      <th>BorrowerState</th>\n",
       "      <th>Occupation</th>\n",
       "      <th>EmploymentStatus</th>\n",
       "      <th>IncomeRange</th>\n",
       "    </tr>\n",
       "  </thead>\n",
       "  <tbody>\n",
       "    <tr>\n",
       "      <th>0</th>\n",
       "      <td>C</td>\n",
       "      <td>Completed</td>\n",
       "      <td>0</td>\n",
       "      <td>CO</td>\n",
       "      <td>Other</td>\n",
       "      <td>Self-employed</td>\n",
       "      <td>$25,000-49,999</td>\n",
       "    </tr>\n",
       "    <tr>\n",
       "      <th>1</th>\n",
       "      <td>NaN</td>\n",
       "      <td>Current</td>\n",
       "      <td>2</td>\n",
       "      <td>CO</td>\n",
       "      <td>Professional</td>\n",
       "      <td>Employed</td>\n",
       "      <td>$50,000-74,999</td>\n",
       "    </tr>\n",
       "    <tr>\n",
       "      <th>2</th>\n",
       "      <td>HR</td>\n",
       "      <td>Completed</td>\n",
       "      <td>0</td>\n",
       "      <td>GA</td>\n",
       "      <td>Other</td>\n",
       "      <td>Not available</td>\n",
       "      <td>Not displayed</td>\n",
       "    </tr>\n",
       "    <tr>\n",
       "      <th>3</th>\n",
       "      <td>NaN</td>\n",
       "      <td>Current</td>\n",
       "      <td>16</td>\n",
       "      <td>GA</td>\n",
       "      <td>Skilled Labor</td>\n",
       "      <td>Employed</td>\n",
       "      <td>$25,000-49,999</td>\n",
       "    </tr>\n",
       "    <tr>\n",
       "      <th>4</th>\n",
       "      <td>NaN</td>\n",
       "      <td>Current</td>\n",
       "      <td>2</td>\n",
       "      <td>MN</td>\n",
       "      <td>Executive</td>\n",
       "      <td>Employed</td>\n",
       "      <td>$100,000+</td>\n",
       "    </tr>\n",
       "    <tr>\n",
       "      <th>5</th>\n",
       "      <td>NaN</td>\n",
       "      <td>Current</td>\n",
       "      <td>1</td>\n",
       "      <td>NM</td>\n",
       "      <td>Professional</td>\n",
       "      <td>Employed</td>\n",
       "      <td>$100,000+</td>\n",
       "    </tr>\n",
       "    <tr>\n",
       "      <th>6</th>\n",
       "      <td>NaN</td>\n",
       "      <td>Current</td>\n",
       "      <td>1</td>\n",
       "      <td>KS</td>\n",
       "      <td>Sales - Retail</td>\n",
       "      <td>Employed</td>\n",
       "      <td>$25,000-49,999</td>\n",
       "    </tr>\n",
       "    <tr>\n",
       "      <th>7</th>\n",
       "      <td>NaN</td>\n",
       "      <td>Current</td>\n",
       "      <td>2</td>\n",
       "      <td>CA</td>\n",
       "      <td>Laborer</td>\n",
       "      <td>Employed</td>\n",
       "      <td>$25,000-49,999</td>\n",
       "    </tr>\n",
       "    <tr>\n",
       "      <th>8</th>\n",
       "      <td>NaN</td>\n",
       "      <td>Current</td>\n",
       "      <td>7</td>\n",
       "      <td>IL</td>\n",
       "      <td>Food Service</td>\n",
       "      <td>Employed</td>\n",
       "      <td>$25,000-49,999</td>\n",
       "    </tr>\n",
       "    <tr>\n",
       "      <th>9</th>\n",
       "      <td>NaN</td>\n",
       "      <td>Current</td>\n",
       "      <td>7</td>\n",
       "      <td>IL</td>\n",
       "      <td>Food Service</td>\n",
       "      <td>Employed</td>\n",
       "      <td>$25,000-49,999</td>\n",
       "    </tr>\n",
       "    <tr>\n",
       "      <th>10</th>\n",
       "      <td>NaN</td>\n",
       "      <td>Current</td>\n",
       "      <td>1</td>\n",
       "      <td>MD</td>\n",
       "      <td>Fireman</td>\n",
       "      <td>Employed</td>\n",
       "      <td>$75,000-99,999</td>\n",
       "    </tr>\n",
       "    <tr>\n",
       "      <th>11</th>\n",
       "      <td>C</td>\n",
       "      <td>Completed</td>\n",
       "      <td>0</td>\n",
       "      <td>NaN</td>\n",
       "      <td>Waiter/Waitress</td>\n",
       "      <td>Full-time</td>\n",
       "      <td>$1-24,999</td>\n",
       "    </tr>\n",
       "    <tr>\n",
       "      <th>12</th>\n",
       "      <td>NaN</td>\n",
       "      <td>Past Due (1-15 days)</td>\n",
       "      <td>1</td>\n",
       "      <td>AL</td>\n",
       "      <td>Sales - Retail</td>\n",
       "      <td>Employed</td>\n",
       "      <td>$25,000-49,999</td>\n",
       "    </tr>\n",
       "    <tr>\n",
       "      <th>13</th>\n",
       "      <td>NaN</td>\n",
       "      <td>Current</td>\n",
       "      <td>1</td>\n",
       "      <td>AZ</td>\n",
       "      <td>Construction</td>\n",
       "      <td>Employed</td>\n",
       "      <td>$50,000-74,999</td>\n",
       "    </tr>\n",
       "    <tr>\n",
       "      <th>14</th>\n",
       "      <td>NaN</td>\n",
       "      <td>Current</td>\n",
       "      <td>1</td>\n",
       "      <td>VA</td>\n",
       "      <td>Computer Programmer</td>\n",
       "      <td>Employed</td>\n",
       "      <td>$100,000+</td>\n",
       "    </tr>\n",
       "    <tr>\n",
       "      <th>15</th>\n",
       "      <td>NaN</td>\n",
       "      <td>Defaulted</td>\n",
       "      <td>13</td>\n",
       "      <td>FL</td>\n",
       "      <td>Other</td>\n",
       "      <td>Other</td>\n",
       "      <td>$50,000-74,999</td>\n",
       "    </tr>\n",
       "    <tr>\n",
       "      <th>16</th>\n",
       "      <td>NaN</td>\n",
       "      <td>Current</td>\n",
       "      <td>6</td>\n",
       "      <td>CA</td>\n",
       "      <td>Professional</td>\n",
       "      <td>Full-time</td>\n",
       "      <td>$75,000-99,999</td>\n",
       "    </tr>\n",
       "    <tr>\n",
       "      <th>17</th>\n",
       "      <td>AA</td>\n",
       "      <td>Chargedoff</td>\n",
       "      <td>0</td>\n",
       "      <td>NaN</td>\n",
       "      <td>Professional</td>\n",
       "      <td>Not available</td>\n",
       "      <td>Not displayed</td>\n",
       "    </tr>\n",
       "    <tr>\n",
       "      <th>18</th>\n",
       "      <td>NaN</td>\n",
       "      <td>Current</td>\n",
       "      <td>1</td>\n",
       "      <td>PA</td>\n",
       "      <td>Sales - Commission</td>\n",
       "      <td>Employed</td>\n",
       "      <td>$75,000-99,999</td>\n",
       "    </tr>\n",
       "    <tr>\n",
       "      <th>19</th>\n",
       "      <td>NaN</td>\n",
       "      <td>Current</td>\n",
       "      <td>1</td>\n",
       "      <td>OR</td>\n",
       "      <td>Laborer</td>\n",
       "      <td>Employed</td>\n",
       "      <td>$25,000-49,999</td>\n",
       "    </tr>\n",
       "    <tr>\n",
       "      <th>20</th>\n",
       "      <td>NaN</td>\n",
       "      <td>Current</td>\n",
       "      <td>1</td>\n",
       "      <td>MN</td>\n",
       "      <td>Retail Management</td>\n",
       "      <td>Employed</td>\n",
       "      <td>$50,000-74,999</td>\n",
       "    </tr>\n",
       "    <tr>\n",
       "      <th>21</th>\n",
       "      <td>D</td>\n",
       "      <td>Completed</td>\n",
       "      <td>0</td>\n",
       "      <td>MI</td>\n",
       "      <td>Professional</td>\n",
       "      <td>Full-time</td>\n",
       "      <td>$25,000-49,999</td>\n",
       "    </tr>\n",
       "    <tr>\n",
       "      <th>22</th>\n",
       "      <td>NaN</td>\n",
       "      <td>Current</td>\n",
       "      <td>1</td>\n",
       "      <td>NY</td>\n",
       "      <td>Other</td>\n",
       "      <td>Other</td>\n",
       "      <td>$1-24,999</td>\n",
       "    </tr>\n",
       "    <tr>\n",
       "      <th>23</th>\n",
       "      <td>NaN</td>\n",
       "      <td>Defaulted</td>\n",
       "      <td>15</td>\n",
       "      <td>IL</td>\n",
       "      <td>Skilled Labor</td>\n",
       "      <td>Employed</td>\n",
       "      <td>$25,000-49,999</td>\n",
       "    </tr>\n",
       "    <tr>\n",
       "      <th>24</th>\n",
       "      <td>NaN</td>\n",
       "      <td>Current</td>\n",
       "      <td>1</td>\n",
       "      <td>LA</td>\n",
       "      <td>Other</td>\n",
       "      <td>Employed</td>\n",
       "      <td>$25,000-49,999</td>\n",
       "    </tr>\n",
       "    <tr>\n",
       "      <th>25</th>\n",
       "      <td>NaN</td>\n",
       "      <td>Current</td>\n",
       "      <td>15</td>\n",
       "      <td>CA</td>\n",
       "      <td>Engineer - Mechanical</td>\n",
       "      <td>Employed</td>\n",
       "      <td>$75,000-99,999</td>\n",
       "    </tr>\n",
       "    <tr>\n",
       "      <th>26</th>\n",
       "      <td>NaN</td>\n",
       "      <td>Completed</td>\n",
       "      <td>1</td>\n",
       "      <td>NY</td>\n",
       "      <td>Sales - Commission</td>\n",
       "      <td>Employed</td>\n",
       "      <td>$25,000-49,999</td>\n",
       "    </tr>\n",
       "    <tr>\n",
       "      <th>27</th>\n",
       "      <td>NaN</td>\n",
       "      <td>Completed</td>\n",
       "      <td>1</td>\n",
       "      <td>CO</td>\n",
       "      <td>Executive</td>\n",
       "      <td>Full-time</td>\n",
       "      <td>$75,000-99,999</td>\n",
       "    </tr>\n",
       "    <tr>\n",
       "      <th>28</th>\n",
       "      <td>NaN</td>\n",
       "      <td>Current</td>\n",
       "      <td>2</td>\n",
       "      <td>PA</td>\n",
       "      <td>Military Enlisted</td>\n",
       "      <td>Employed</td>\n",
       "      <td>$25,000-49,999</td>\n",
       "    </tr>\n",
       "    <tr>\n",
       "      <th>29</th>\n",
       "      <td>NaN</td>\n",
       "      <td>Current</td>\n",
       "      <td>1</td>\n",
       "      <td>LA</td>\n",
       "      <td>Other</td>\n",
       "      <td>Employed</td>\n",
       "      <td>$100,000+</td>\n",
       "    </tr>\n",
       "    <tr>\n",
       "      <th>...</th>\n",
       "      <td>...</td>\n",
       "      <td>...</td>\n",
       "      <td>...</td>\n",
       "      <td>...</td>\n",
       "      <td>...</td>\n",
       "      <td>...</td>\n",
       "      <td>...</td>\n",
       "    </tr>\n",
       "    <tr>\n",
       "      <th>113907</th>\n",
       "      <td>NaN</td>\n",
       "      <td>Current</td>\n",
       "      <td>1</td>\n",
       "      <td>AZ</td>\n",
       "      <td>Sales - Retail</td>\n",
       "      <td>Employed</td>\n",
       "      <td>$25,000-49,999</td>\n",
       "    </tr>\n",
       "    <tr>\n",
       "      <th>113908</th>\n",
       "      <td>NaN</td>\n",
       "      <td>Completed</td>\n",
       "      <td>3</td>\n",
       "      <td>NY</td>\n",
       "      <td>Sales - Commission</td>\n",
       "      <td>Employed</td>\n",
       "      <td>$25,000-49,999</td>\n",
       "    </tr>\n",
       "    <tr>\n",
       "      <th>113909</th>\n",
       "      <td>NaN</td>\n",
       "      <td>Current</td>\n",
       "      <td>2</td>\n",
       "      <td>FL</td>\n",
       "      <td>Clerical</td>\n",
       "      <td>Employed</td>\n",
       "      <td>$25,000-49,999</td>\n",
       "    </tr>\n",
       "    <tr>\n",
       "      <th>113910</th>\n",
       "      <td>NaN</td>\n",
       "      <td>Current</td>\n",
       "      <td>1</td>\n",
       "      <td>TX</td>\n",
       "      <td>Executive</td>\n",
       "      <td>Employed</td>\n",
       "      <td>$100,000+</td>\n",
       "    </tr>\n",
       "    <tr>\n",
       "      <th>113911</th>\n",
       "      <td>NaN</td>\n",
       "      <td>Current</td>\n",
       "      <td>14</td>\n",
       "      <td>MD</td>\n",
       "      <td>Other</td>\n",
       "      <td>Employed</td>\n",
       "      <td>$25,000-49,999</td>\n",
       "    </tr>\n",
       "    <tr>\n",
       "      <th>113912</th>\n",
       "      <td>NaN</td>\n",
       "      <td>Current</td>\n",
       "      <td>2</td>\n",
       "      <td>MN</td>\n",
       "      <td>Scientist</td>\n",
       "      <td>Employed</td>\n",
       "      <td>$25,000-49,999</td>\n",
       "    </tr>\n",
       "    <tr>\n",
       "      <th>113913</th>\n",
       "      <td>NaN</td>\n",
       "      <td>Completed</td>\n",
       "      <td>1</td>\n",
       "      <td>WA</td>\n",
       "      <td>Analyst</td>\n",
       "      <td>Full-time</td>\n",
       "      <td>$100,000+</td>\n",
       "    </tr>\n",
       "    <tr>\n",
       "      <th>113914</th>\n",
       "      <td>HR</td>\n",
       "      <td>Defaulted</td>\n",
       "      <td>0</td>\n",
       "      <td>CA</td>\n",
       "      <td>NaN</td>\n",
       "      <td>NaN</td>\n",
       "      <td>Not displayed</td>\n",
       "    </tr>\n",
       "    <tr>\n",
       "      <th>113915</th>\n",
       "      <td>D</td>\n",
       "      <td>Completed</td>\n",
       "      <td>7</td>\n",
       "      <td>MA</td>\n",
       "      <td>Other</td>\n",
       "      <td>Full-time</td>\n",
       "      <td>$50,000-74,999</td>\n",
       "    </tr>\n",
       "    <tr>\n",
       "      <th>113916</th>\n",
       "      <td>NaN</td>\n",
       "      <td>Current</td>\n",
       "      <td>13</td>\n",
       "      <td>FL</td>\n",
       "      <td>Professional</td>\n",
       "      <td>Employed</td>\n",
       "      <td>$50,000-74,999</td>\n",
       "    </tr>\n",
       "    <tr>\n",
       "      <th>113917</th>\n",
       "      <td>NaN</td>\n",
       "      <td>Current</td>\n",
       "      <td>1</td>\n",
       "      <td>OH</td>\n",
       "      <td>Clerical</td>\n",
       "      <td>Employed</td>\n",
       "      <td>$1-24,999</td>\n",
       "    </tr>\n",
       "    <tr>\n",
       "      <th>113918</th>\n",
       "      <td>A</td>\n",
       "      <td>Defaulted</td>\n",
       "      <td>4</td>\n",
       "      <td>CA</td>\n",
       "      <td>Social Worker</td>\n",
       "      <td>Full-time</td>\n",
       "      <td>$50,000-74,999</td>\n",
       "    </tr>\n",
       "    <tr>\n",
       "      <th>113919</th>\n",
       "      <td>NaN</td>\n",
       "      <td>Current</td>\n",
       "      <td>2</td>\n",
       "      <td>IL</td>\n",
       "      <td>Other</td>\n",
       "      <td>Other</td>\n",
       "      <td>$25,000-49,999</td>\n",
       "    </tr>\n",
       "    <tr>\n",
       "      <th>113920</th>\n",
       "      <td>NaN</td>\n",
       "      <td>Current</td>\n",
       "      <td>1</td>\n",
       "      <td>NJ</td>\n",
       "      <td>Retail Management</td>\n",
       "      <td>Employed</td>\n",
       "      <td>$50,000-74,999</td>\n",
       "    </tr>\n",
       "    <tr>\n",
       "      <th>113921</th>\n",
       "      <td>AA</td>\n",
       "      <td>Completed</td>\n",
       "      <td>0</td>\n",
       "      <td>NaN</td>\n",
       "      <td>NaN</td>\n",
       "      <td>NaN</td>\n",
       "      <td>Not displayed</td>\n",
       "    </tr>\n",
       "    <tr>\n",
       "      <th>113922</th>\n",
       "      <td>C</td>\n",
       "      <td>Completed</td>\n",
       "      <td>5</td>\n",
       "      <td>GA</td>\n",
       "      <td>Other</td>\n",
       "      <td>Full-time</td>\n",
       "      <td>$50,000-74,999</td>\n",
       "    </tr>\n",
       "    <tr>\n",
       "      <th>113923</th>\n",
       "      <td>B</td>\n",
       "      <td>Completed</td>\n",
       "      <td>1</td>\n",
       "      <td>MS</td>\n",
       "      <td>Clergy</td>\n",
       "      <td>Full-time</td>\n",
       "      <td>$25,000-49,999</td>\n",
       "    </tr>\n",
       "    <tr>\n",
       "      <th>113924</th>\n",
       "      <td>NaN</td>\n",
       "      <td>Current</td>\n",
       "      <td>13</td>\n",
       "      <td>WA</td>\n",
       "      <td>Other</td>\n",
       "      <td>Employed</td>\n",
       "      <td>$25,000-49,999</td>\n",
       "    </tr>\n",
       "    <tr>\n",
       "      <th>113925</th>\n",
       "      <td>NaN</td>\n",
       "      <td>Current</td>\n",
       "      <td>1</td>\n",
       "      <td>NY</td>\n",
       "      <td>Homemaker</td>\n",
       "      <td>Employed</td>\n",
       "      <td>$25,000-49,999</td>\n",
       "    </tr>\n",
       "    <tr>\n",
       "      <th>113926</th>\n",
       "      <td>E</td>\n",
       "      <td>Defaulted</td>\n",
       "      <td>0</td>\n",
       "      <td>CA</td>\n",
       "      <td>Other</td>\n",
       "      <td>Not available</td>\n",
       "      <td>Not displayed</td>\n",
       "    </tr>\n",
       "    <tr>\n",
       "      <th>113927</th>\n",
       "      <td>AA</td>\n",
       "      <td>Completed</td>\n",
       "      <td>4</td>\n",
       "      <td>WA</td>\n",
       "      <td>Executive</td>\n",
       "      <td>Full-time</td>\n",
       "      <td>$100,000+</td>\n",
       "    </tr>\n",
       "    <tr>\n",
       "      <th>113928</th>\n",
       "      <td>NaN</td>\n",
       "      <td>Completed</td>\n",
       "      <td>3</td>\n",
       "      <td>CO</td>\n",
       "      <td>Other</td>\n",
       "      <td>Full-time</td>\n",
       "      <td>$25,000-49,999</td>\n",
       "    </tr>\n",
       "    <tr>\n",
       "      <th>113929</th>\n",
       "      <td>NaN</td>\n",
       "      <td>Completed</td>\n",
       "      <td>2</td>\n",
       "      <td>FL</td>\n",
       "      <td>Accountant/CPA</td>\n",
       "      <td>Employed</td>\n",
       "      <td>$50,000-74,999</td>\n",
       "    </tr>\n",
       "    <tr>\n",
       "      <th>113930</th>\n",
       "      <td>NaN</td>\n",
       "      <td>Current</td>\n",
       "      <td>1</td>\n",
       "      <td>IN</td>\n",
       "      <td>Professional</td>\n",
       "      <td>Employed</td>\n",
       "      <td>$75,000-99,999</td>\n",
       "    </tr>\n",
       "    <tr>\n",
       "      <th>113931</th>\n",
       "      <td>NaN</td>\n",
       "      <td>Current</td>\n",
       "      <td>3</td>\n",
       "      <td>IL</td>\n",
       "      <td>Analyst</td>\n",
       "      <td>Employed</td>\n",
       "      <td>$75,000-99,999</td>\n",
       "    </tr>\n",
       "    <tr>\n",
       "      <th>113932</th>\n",
       "      <td>NaN</td>\n",
       "      <td>Current</td>\n",
       "      <td>1</td>\n",
       "      <td>IL</td>\n",
       "      <td>Food Service Management</td>\n",
       "      <td>Employed</td>\n",
       "      <td>$50,000-74,999</td>\n",
       "    </tr>\n",
       "    <tr>\n",
       "      <th>113933</th>\n",
       "      <td>NaN</td>\n",
       "      <td>FinalPaymentInProgress</td>\n",
       "      <td>7</td>\n",
       "      <td>PA</td>\n",
       "      <td>Professional</td>\n",
       "      <td>Employed</td>\n",
       "      <td>$75,000-99,999</td>\n",
       "    </tr>\n",
       "    <tr>\n",
       "      <th>113934</th>\n",
       "      <td>NaN</td>\n",
       "      <td>Current</td>\n",
       "      <td>1</td>\n",
       "      <td>TX</td>\n",
       "      <td>Other</td>\n",
       "      <td>Employed</td>\n",
       "      <td>$25,000-49,999</td>\n",
       "    </tr>\n",
       "    <tr>\n",
       "      <th>113935</th>\n",
       "      <td>NaN</td>\n",
       "      <td>Completed</td>\n",
       "      <td>2</td>\n",
       "      <td>GA</td>\n",
       "      <td>Food Service</td>\n",
       "      <td>Full-time</td>\n",
       "      <td>$25,000-49,999</td>\n",
       "    </tr>\n",
       "    <tr>\n",
       "      <th>113936</th>\n",
       "      <td>NaN</td>\n",
       "      <td>Current</td>\n",
       "      <td>1</td>\n",
       "      <td>NY</td>\n",
       "      <td>Professor</td>\n",
       "      <td>Employed</td>\n",
       "      <td>$50,000-74,999</td>\n",
       "    </tr>\n",
       "  </tbody>\n",
       "</table>\n",
       "<p>113937 rows × 7 columns</p>\n",
       "</div>"
      ],
      "text/plain": [
       "       CreditGrade              LoanStatus ListingCategory BorrowerState  \\\n",
       "0                C               Completed               0            CO   \n",
       "1              NaN                 Current               2            CO   \n",
       "2               HR               Completed               0            GA   \n",
       "3              NaN                 Current              16            GA   \n",
       "4              NaN                 Current               2            MN   \n",
       "5              NaN                 Current               1            NM   \n",
       "6              NaN                 Current               1            KS   \n",
       "7              NaN                 Current               2            CA   \n",
       "8              NaN                 Current               7            IL   \n",
       "9              NaN                 Current               7            IL   \n",
       "10             NaN                 Current               1            MD   \n",
       "11               C               Completed               0           NaN   \n",
       "12             NaN    Past Due (1-15 days)               1            AL   \n",
       "13             NaN                 Current               1            AZ   \n",
       "14             NaN                 Current               1            VA   \n",
       "15             NaN               Defaulted              13            FL   \n",
       "16             NaN                 Current               6            CA   \n",
       "17              AA              Chargedoff               0           NaN   \n",
       "18             NaN                 Current               1            PA   \n",
       "19             NaN                 Current               1            OR   \n",
       "20             NaN                 Current               1            MN   \n",
       "21               D               Completed               0            MI   \n",
       "22             NaN                 Current               1            NY   \n",
       "23             NaN               Defaulted              15            IL   \n",
       "24             NaN                 Current               1            LA   \n",
       "25             NaN                 Current              15            CA   \n",
       "26             NaN               Completed               1            NY   \n",
       "27             NaN               Completed               1            CO   \n",
       "28             NaN                 Current               2            PA   \n",
       "29             NaN                 Current               1            LA   \n",
       "...            ...                     ...             ...           ...   \n",
       "113907         NaN                 Current               1            AZ   \n",
       "113908         NaN               Completed               3            NY   \n",
       "113909         NaN                 Current               2            FL   \n",
       "113910         NaN                 Current               1            TX   \n",
       "113911         NaN                 Current              14            MD   \n",
       "113912         NaN                 Current               2            MN   \n",
       "113913         NaN               Completed               1            WA   \n",
       "113914          HR               Defaulted               0            CA   \n",
       "113915           D               Completed               7            MA   \n",
       "113916         NaN                 Current              13            FL   \n",
       "113917         NaN                 Current               1            OH   \n",
       "113918           A               Defaulted               4            CA   \n",
       "113919         NaN                 Current               2            IL   \n",
       "113920         NaN                 Current               1            NJ   \n",
       "113921          AA               Completed               0           NaN   \n",
       "113922           C               Completed               5            GA   \n",
       "113923           B               Completed               1            MS   \n",
       "113924         NaN                 Current              13            WA   \n",
       "113925         NaN                 Current               1            NY   \n",
       "113926           E               Defaulted               0            CA   \n",
       "113927          AA               Completed               4            WA   \n",
       "113928         NaN               Completed               3            CO   \n",
       "113929         NaN               Completed               2            FL   \n",
       "113930         NaN                 Current               1            IN   \n",
       "113931         NaN                 Current               3            IL   \n",
       "113932         NaN                 Current               1            IL   \n",
       "113933         NaN  FinalPaymentInProgress               7            PA   \n",
       "113934         NaN                 Current               1            TX   \n",
       "113935         NaN               Completed               2            GA   \n",
       "113936         NaN                 Current               1            NY   \n",
       "\n",
       "                     Occupation EmploymentStatus     IncomeRange  \n",
       "0                         Other    Self-employed  $25,000-49,999  \n",
       "1                  Professional         Employed  $50,000-74,999  \n",
       "2                         Other    Not available   Not displayed  \n",
       "3                 Skilled Labor         Employed  $25,000-49,999  \n",
       "4                     Executive         Employed       $100,000+  \n",
       "5                  Professional         Employed       $100,000+  \n",
       "6                Sales - Retail         Employed  $25,000-49,999  \n",
       "7                       Laborer         Employed  $25,000-49,999  \n",
       "8                  Food Service         Employed  $25,000-49,999  \n",
       "9                  Food Service         Employed  $25,000-49,999  \n",
       "10                      Fireman         Employed  $75,000-99,999  \n",
       "11              Waiter/Waitress        Full-time       $1-24,999  \n",
       "12               Sales - Retail         Employed  $25,000-49,999  \n",
       "13                 Construction         Employed  $50,000-74,999  \n",
       "14          Computer Programmer         Employed       $100,000+  \n",
       "15                        Other            Other  $50,000-74,999  \n",
       "16                 Professional        Full-time  $75,000-99,999  \n",
       "17                 Professional    Not available   Not displayed  \n",
       "18           Sales - Commission         Employed  $75,000-99,999  \n",
       "19                      Laborer         Employed  $25,000-49,999  \n",
       "20            Retail Management         Employed  $50,000-74,999  \n",
       "21                 Professional        Full-time  $25,000-49,999  \n",
       "22                        Other            Other       $1-24,999  \n",
       "23                Skilled Labor         Employed  $25,000-49,999  \n",
       "24                        Other         Employed  $25,000-49,999  \n",
       "25        Engineer - Mechanical         Employed  $75,000-99,999  \n",
       "26           Sales - Commission         Employed  $25,000-49,999  \n",
       "27                    Executive        Full-time  $75,000-99,999  \n",
       "28            Military Enlisted         Employed  $25,000-49,999  \n",
       "29                        Other         Employed       $100,000+  \n",
       "...                         ...              ...             ...  \n",
       "113907           Sales - Retail         Employed  $25,000-49,999  \n",
       "113908       Sales - Commission         Employed  $25,000-49,999  \n",
       "113909                 Clerical         Employed  $25,000-49,999  \n",
       "113910                Executive         Employed       $100,000+  \n",
       "113911                    Other         Employed  $25,000-49,999  \n",
       "113912                Scientist         Employed  $25,000-49,999  \n",
       "113913                  Analyst        Full-time       $100,000+  \n",
       "113914                      NaN              NaN   Not displayed  \n",
       "113915                    Other        Full-time  $50,000-74,999  \n",
       "113916             Professional         Employed  $50,000-74,999  \n",
       "113917                 Clerical         Employed       $1-24,999  \n",
       "113918            Social Worker        Full-time  $50,000-74,999  \n",
       "113919                    Other            Other  $25,000-49,999  \n",
       "113920        Retail Management         Employed  $50,000-74,999  \n",
       "113921                      NaN              NaN   Not displayed  \n",
       "113922                    Other        Full-time  $50,000-74,999  \n",
       "113923                   Clergy        Full-time  $25,000-49,999  \n",
       "113924                    Other         Employed  $25,000-49,999  \n",
       "113925                Homemaker         Employed  $25,000-49,999  \n",
       "113926                    Other    Not available   Not displayed  \n",
       "113927                Executive        Full-time       $100,000+  \n",
       "113928                    Other        Full-time  $25,000-49,999  \n",
       "113929           Accountant/CPA         Employed  $50,000-74,999  \n",
       "113930             Professional         Employed  $75,000-99,999  \n",
       "113931                  Analyst         Employed  $75,000-99,999  \n",
       "113932  Food Service Management         Employed  $50,000-74,999  \n",
       "113933             Professional         Employed  $75,000-99,999  \n",
       "113934                    Other         Employed  $25,000-49,999  \n",
       "113935             Food Service        Full-time  $25,000-49,999  \n",
       "113936                Professor         Employed  $50,000-74,999  \n",
       "\n",
       "[113937 rows x 7 columns]"
      ]
     },
     "execution_count": 19,
     "metadata": {},
     "output_type": "execute_result"
    }
   ],
   "source": [
    "prosper_clean.select_dtypes(include=['category'])"
   ]
  },
  {
   "cell_type": "code",
   "execution_count": 20,
   "metadata": {},
   "outputs": [],
   "source": [
    "prosper_clean['DateCreditPulled'] = pd.to_datetime(prosper_clean['DateCreditPulled'])\n",
    "prosper_clean['LoanOriginationDate'] = pd.to_datetime(prosper_clean['LoanOriginationDate'])  \n",
    "prosper_clean['ListingCreationDate'] = pd.to_datetime(prosper_clean['ListingCreationDate'])  "
   ]
  },
  {
   "cell_type": "code",
   "execution_count": 21,
   "metadata": {},
   "outputs": [],
   "source": [
    "prosper_clean['DateCreditPulled'] = prosper_clean['DateCreditPulled'].map(lambda x: x.strftime('%Y%m%d%' + ' ' + '%I:%M %p') if x else \"\")\n",
    "prosper_clean['LoanOriginationDate'] = prosper_clean['LoanOriginationDate'].map(lambda x: x.strftime('%Y%m%d%' + ' ' + '%I:%M %p') if x else \"\")\n",
    "prosper_clean['ListingCreationDate'] = prosper_clean['ListingCreationDate'].map(lambda x: x.strftime('%Y%m%d%' + ' ' + '%I:%M %p') if x else \"\")"
   ]
  },
  {
   "cell_type": "code",
   "execution_count": null,
   "metadata": {},
   "outputs": [],
   "source": []
  },
  {
   "cell_type": "markdown",
   "metadata": {},
   "source": [
    "### What is the structure of your dataset?\n",
    "\n",
    "> The Prosper Loans consists of 82 attributes with 113066 unique listings. I've decided to focus on 42 important features which include loan member characteristics and what might be driving factors of estimated repayment verses loss. These variables differ from numeric to categorical. You can explore all variable definitions here: https://docs.google.com/spreadsheets/d/1VtTHJgXz_oY8RRVGPKwFeYtN1BR23ZZMLJMqj_DaccQ/edit#gid=0.\n",
    "\n",
    "### What is/are the main feature(s) of interest in your dataset?\n",
    "\n",
    "> The main features of this dataset will be user defined characteristics such as, state of residence, monthly income, credit rating, delinquency, borrower rate, occupation, loan status, and Prosper Score. \n",
    "\n",
    "### What features in the dataset do you think will help support your investigation into your feature(s) of interest?\n",
    "\n",
    "> "
   ]
  },
  {
   "cell_type": "markdown",
   "metadata": {},
   "source": [
    "## Univariate Exploration\n",
    "\n",
    "> In this section, investigate distributions of individual variables. If\n",
    "you see unusual points or outliers, take a deeper look to clean things up\n",
    "and prepare yourself to look at relationships between variables."
   ]
  },
  {
   "cell_type": "markdown",
   "metadata": {},
   "source": [
    "> ##### let's start with histograms for our univariate exploration, histograms divide a variable into bins, counting frequency of each data points within the bin, appear on the x-axis while counts appear on the y-axis"
   ]
  },
  {
   "cell_type": "markdown",
   "metadata": {},
   "source": [
    "#####  Understing Rate and APR; The interest rate is the cost of borrowing the principal loan amount. ... The APR is a broader measure of the cost of a mortgage because it includes the interest rate plus other costs such as broker fees, discount points and some closing costs, expressed as a percentage"
   ]
  },
  {
   "cell_type": "markdown",
   "metadata": {},
   "source": [
    "> ##### looking at borrower rate we can see this is not exactly a normal distribution but, can be interpreted as a random skewness with many peaks with slight right skewness and peak at 0.15%, then our mean of 0.19% peaks again after 0.20% but, drops and seems to level at the 4000 frequency range with a random spike at ~0.32%. We can generalize and say that the borrower's can receive anywhere between 0.05% and 0.30% for their loan interest rate. Further investigation is required on the spike at ~0.32%"
   ]
  },
  {
   "cell_type": "code",
   "execution_count": 277,
   "metadata": {},
   "outputs": [
    {
     "data": {
      "text/plain": [
       "(0.1927640577687518, 0.07481843026322685)"
      ]
     },
     "execution_count": 277,
     "metadata": {},
     "output_type": "execute_result"
    }
   ],
   "source": [
    "prosper_clean['BorrowerRate'].mean(), prosper_clean['BorrowerRate'].std()"
   ]
  },
  {
   "cell_type": "code",
   "execution_count": 278,
   "metadata": {},
   "outputs": [
    {
     "data": {
      "image/png": "[encoded data removed]",
      "text/plain": [
       "<Figure size 720x576 with 1 Axes>"
      ]
     },
     "metadata": {
      "needs_background": "light"
     },
     "output_type": "display_data"
    }
   ],
   "source": [
    "bins = np.arange(0, prosper_clean['BorrowerRate'].max()+0.0175,0.01)\n",
    "\n",
    "x = prosper_clean['BorrowerRate']\n",
    "\n",
    "plt.figure(figsize=[10,8])\n",
    "plt.hist(x, bins=bins, alpha=0.7, rwidth=0.85)\n",
    "\n",
    "plt.axvline(x.mean(), color='#0504aa', linestyle='dashed', linewidth=1)  # cite 3\n",
    "plt.xlabel('Borrower Rate (%)', fontsize=14)\n",
    "plt.ylabel('Frequency', fontsize=14);"
   ]
  },
  {
   "cell_type": "markdown",
   "metadata": {},
   "source": [
    "> ##### looking at borrower APR we can see a similar pattern of random skewnness and a peak at ~0.18% and ~0.21%, while our mean of ~0.22% then seems to drop to about a 2700 frequency range but, thene rise slightly again just before 0.30% with a random peak again at ~0.36%. We can generalize and say that the borrower's APR can receive anywhere between 0.13% and 0.25% with 0.22% on average while further investigation should be noted for the spike at ~0.36%"
   ]
  },
  {
   "cell_type": "code",
   "execution_count": 279,
   "metadata": {},
   "outputs": [
    {
     "data": {
      "image/png": "[encoded data removed]",
      "text/plain": [
       "<Figure size 720x576 with 1 Axes>"
      ]
     },
     "metadata": {
      "needs_background": "light"
     },
     "output_type": "display_data"
    }
   ],
   "source": [
    "bins = np.arange(0, prosper_clean['BorrowerAPR'].max()+0.017,0.01)\n",
    "\n",
    "x = prosper_clean['BorrowerAPR']\n",
    "\n",
    "plt.figure(figsize=[10,8])\n",
    "plt.hist(x, bins=bins, alpha=0.7, rwidth=0.85)\n",
    "\n",
    "plt.axvline(x.mean(), color='#3498db', linestyle='dashed', linewidth=1) \n",
    "plt.xlabel('Borrower APR (%)', fontsize=14)\n",
    "plt.ylabel('Frequency', fontsize=14);"
   ]
  },
  {
   "cell_type": "markdown",
   "metadata": {},
   "source": [
    "> ##### looking at estimated return we see there is a spike at 0.0% and somewhat of a right skewed distribution with a peak at about ~0.9% which shows estimated rate of returns with prosper loans are mostly within this range of 0.05% and 0.15%. Further investigation is required in the spike."
   ]
  },
  {
   "cell_type": "code",
   "execution_count": 280,
   "metadata": {},
   "outputs": [
    {
     "data": {
      "image/png": "[encoded data removed]",
      "text/plain": [
       "<Figure size 720x576 with 1 Axes>"
      ]
     },
     "metadata": {
      "needs_background": "light"
     },
     "output_type": "display_data"
    }
   ],
   "source": [
    "bins = np.arange(0, prosper_clean['EstimatedReturn'].max()+0.01,0.01)\n",
    "\n",
    "x = prosper_clean['EstimatedReturn']\n",
    "\n",
    "plt.figure(figsize=[10,8])\n",
    "plt.hist(x, bins=bins, alpha=0.7, rwidth=0.85)\n",
    "\n",
    "plt.axvline(x.mean(), color='#3498db', linestyle='dashed', linewidth=1) \n",
    "plt.xlabel('EstimatedReturn (%)', fontsize=14)\n",
    "plt.ylabel('Frequency', fontsize=14);"
   ]
  },
  {
   "cell_type": "markdown",
   "metadata": {},
   "source": [
    "##### let's plot only delinquent amounts values over 0.0 and put them in a numpy array which we can pass into our kdeplot!"
   ]
  },
  {
   "cell_type": "code",
   "execution_count": 281,
   "metadata": {},
   "outputs": [
    {
     "data": {
      "text/plain": [
       "array([16435, 16350,     7,     3,    11,  2244,  2526,  1234,   116,\n",
       "         735,    12,    21,    51,    66,     7,   501,     2, 16347,\n",
       "          17,    17,    41,  7058,  7524,    97,   174,     8,  3114,\n",
       "           8,   104,    28,    11,   448,  2494,   301,  1820,    78,\n",
       "         621,  1513, 14435,  7099,   157,     9,     6,   199,   455])"
      ]
     },
     "execution_count": 281,
     "metadata": {},
     "output_type": "execute_result"
    }
   ],
   "source": [
    "amount_delinquent = np.array(prosper_clean.query('AmountDelinquent > 0.0').nunique())\n",
    "amount_delinquent"
   ]
  },
  {
   "cell_type": "code",
   "execution_count": 282,
   "metadata": {},
   "outputs": [
    {
     "data": {
      "text/plain": [
       "Text(0, 0.5, 'Frequency')"
      ]
     },
     "execution_count": 282,
     "metadata": {},
     "output_type": "execute_result"
    },
    {
     "data": {
      "image/png": "[encoded data removed]",
      "text/plain": [
       "<Figure size 720x576 with 1 Axes>"
      ]
     },
     "metadata": {
      "needs_background": "light"
     },
     "output_type": "display_data"
    }
   ],
   "source": [
    "plt.figure(figsize=[10,8])\n",
    "sb.kdeplot(amount_delinquent, shade=True, color='steelblue', bw=5);\n",
    "plt.xlabel('AmountDelinquent ($)', fontsize=14)\n",
    "plt.ylabel('Frequency', fontsize=14)"
   ]
  },
  {
   "cell_type": "markdown",
   "metadata": {},
   "source": [
    "##### let's look now at the entiretly of our delinquent amounts using all values from our column and use it with kdeplot"
   ]
  },
  {
   "cell_type": "code",
   "execution_count": 283,
   "metadata": {},
   "outputs": [
    {
     "data": {
      "text/plain": [
       "Text(0, 0.5, 'Frequency')"
      ]
     },
     "execution_count": 283,
     "metadata": {},
     "output_type": "execute_result"
    },
    {
     "data": {
      "image/png": "[encoded data removed]",
      "text/plain": [
       "<Figure size 720x576 with 1 Axes>"
      ]
     },
     "metadata": {
      "needs_background": "light"
     },
     "output_type": "display_data"
    }
   ],
   "source": [
    "plt.figure(figsize=[10,8])\n",
    "sb.kdeplot(prosper_clean['AmountDelinquent'], shade=True, color='steelblue', bw=5);\n",
    "plt.xlabel('AmountDelinquent ($)', fontsize=14)\n",
    "plt.ylabel('Frequency', fontsize=14)"
   ]
  },
  {
   "cell_type": "markdown",
   "metadata": {},
   "source": [
    "##### seeing the skewed bar chart above means we can try for a log scale instead for a normal distribution"
   ]
  },
  {
   "cell_type": "code",
   "execution_count": null,
   "metadata": {},
   "outputs": [],
   "source": [
    "log_bins = 2\n",
    "l_bins = 10 ** np.arange(0, prosper_clean['AmountDelinquent'].max()+log_bins, log_bins)\n",
    "\n",
    "plt.figure(figsize=[10, 8])\n",
    "\n",
    "plt.hist(x, bins=l_bins, alpha=0.7, rwidth=0.25,  color='steelblue')\n",
    "\n",
    "plt.xscale('log')\n",
    "plt.xlabel('AmountDelinquent ($) Log Scale', fontsize=14)"
   ]
  },
  {
   "cell_type": "code",
   "execution_count": 354,
   "metadata": {},
   "outputs": [],
   "source": [
    "base_color = sb.color_palette()[1]"
   ]
  },
  {
   "cell_type": "markdown",
   "metadata": {},
   "source": [
    "##### let's look at our credit grades frequency across the dataset with a countplot, here we can see most credit grades are grade \"C\", with grade \"D\", and \"B\" as second and third. "
   ]
  },
  {
   "cell_type": "code",
   "execution_count": 293,
   "metadata": {},
   "outputs": [],
   "source": [
    "total_credit_shape = float(prosper_clean.CreditGrade.shape[0])"
   ]
  },
  {
   "cell_type": "code",
   "execution_count": 294,
   "metadata": {},
   "outputs": [],
   "source": [
    "descending_order = prosper_clean['CreditGrade'].value_counts().sort_values(ascending=False).index"
   ]
  },
  {
   "cell_type": "code",
   "execution_count": 399,
   "metadata": {},
   "outputs": [
    {
     "data": {
      "image/png": "[encoded data removed]",
      "text/plain": [
       "<Figure size 720x576 with 1 Axes>"
      ]
     },
     "metadata": {
      "needs_background": "light"
     },
     "output_type": "display_data"
    }
   ],
   "source": [
    "plt.figure(figsize=[10, 8])\n",
    "\n",
    "ax = sb.countplot(x=\"CreditGrade\", data=prosper_clean, order=descending_order, palette=\"Blues_r\")\n",
    "\n",
    "for p in ax.patches:  # cite 2\n",
    "    x=p.get_bbox().get_points()[:,0]  \n",
    "    y=p.get_bbox().get_points()[1,1]\n",
    "    ax.annotate('{:.1f}%'.format(100.*y/total_credit_shape), (x.mean(), y), ha='center', va='bottom') \n",
    "\n",
    "letter_labels = ['C: 630-679','D: 550-629','B: 680-719','AA: 760+ ',\n",
    "                 'HR: First Time Borrower', 'A: 720+','E: 520-','NC: No Credit']\n",
    "\n",
    "plt.legend(fontsize=14, labels=[letter_labels], bbox_to_anchor=(1, 1.1), borderaxespad=0.25)\n",
    "\n",
    "plt.xlabel('Credit Grade', fontsize=14)\n",
    "plt.ylabel('Frequency', fontsize=14);"
   ]
  },
  {
   "cell_type": "markdown",
   "metadata": {},
   "source": [
    "> ##### here we use a countplot to view loan status of all prosper loans which shows very positively that 49.7% of loans are in current status, which ideally is great for a loan company! With ~10% charged off and ~4% defaulted are not as good but, yet relatively low numbers and we see no prosper loan customers are > 120 days overdue on their loans which looks promising! "
   ]
  },
  {
   "cell_type": "code",
   "execution_count": 400,
   "metadata": {},
   "outputs": [],
   "source": [
    "total_loan_status = float(prosper_clean.LoanStatus.shape[0])"
   ]
  },
  {
   "cell_type": "code",
   "execution_count": 401,
   "metadata": {},
   "outputs": [],
   "source": [
    "descending_order = prosper_clean['LoanStatus'].value_counts().sort_values(ascending=False).index"
   ]
  },
  {
   "cell_type": "code",
   "execution_count": 406,
   "metadata": {},
   "outputs": [
    {
     "data": {
      "image/png": "[encoded data removed]",
      "text/plain": [
       "<Figure size 720x576 with 1 Axes>"
      ]
     },
     "metadata": {
      "needs_background": "light"
     },
     "output_type": "display_data"
    }
   ],
   "source": [
    "f, ax = plt.subplots(figsize=(10, 8))\n",
    "\n",
    "ax = sb.countplot(x=\"LoanStatus\", data=prosper_clean, \n",
    "                  order=descending_order, color=base_color)\n",
    "\n",
    "for p in ax.patches:\n",
    "    x=p.get_bbox().get_points()[:,0]  # cite 2\n",
    "    y=p.get_bbox().get_points()[1,1]\n",
    "    ax.annotate('{:.1f}%'.format(100.*y/total_loan_status), (x.mean(), y), \n",
    "            ha='center', va='bottom',  fontsize=12) \n",
    "    \n",
    "ax.set_ylabel('Frequency [%]')\n",
    "plt.setp(ax.get_xticklabels(), rotation=45);\n",
    "plt.xlabel('Loan Status', fontsize=14)\n",
    "plt.ylabel('Frequency', fontsize=14);"
   ]
  },
  {
   "cell_type": "code",
   "execution_count": 83,
   "metadata": {},
   "outputs": [
    {
     "data": {
      "image/png": "[encoded data removed]",
      "text/plain": [
       "<Figure size 432x288 with 1 Axes>"
      ]
     },
     "metadata": {
      "needs_background": "light"
     },
     "output_type": "display_data"
    }
   ],
   "source": [
    "sb.distplot(prosper_clean.ProsperScore);"
   ]
  },
  {
   "cell_type": "code",
   "execution_count": 86,
   "metadata": {},
   "outputs": [
    {
     "data": {
      "image/png": "[encoded data removed]",
      "text/plain": [
       "<Figure size 432x288 with 1 Axes>"
      ]
     },
     "metadata": {
      "needs_background": "light"
     },
     "output_type": "display_data"
    }
   ],
   "source": [
    "sb.distplot(prosper_clean.CreditScoreRangeLower, kde=False, rug=True);"
   ]
  },
  {
   "cell_type": "code",
   "execution_count": 87,
   "metadata": {},
   "outputs": [
    {
     "data": {
      "image/png": "[encoded data removed]",
      "text/plain": [
       "<Figure size 432x288 with 1 Axes>"
      ]
     },
     "metadata": {
      "needs_background": "light"
     },
     "output_type": "display_data"
    }
   ],
   "source": [
    "sb.distplot(prosper_clean.CreditScoreRangeUpper, kde=False, rug=True);"
   ]
  },
  {
   "cell_type": "code",
   "execution_count": 88,
   "metadata": {},
   "outputs": [
    {
     "data": {
      "image/png": "[encoded data removed]",
      "text/plain": [
       "<Figure size 432x288 with 1 Axes>"
      ]
     },
     "metadata": {
      "needs_background": "light"
     },
     "output_type": "display_data"
    }
   ],
   "source": [
    "sb.distplot(prosper_clean.AvailableBankcardCredit, kde=False, rug=True);"
   ]
  },
  {
   "cell_type": "code",
   "execution_count": 101,
   "metadata": {},
   "outputs": [
    {
     "data": {
      "image/png": "[encoded data removed]",
      "text/plain": [
       "<Figure size 432x288 with 1 Axes>"
      ]
     },
     "metadata": {
      "needs_background": "light"
     },
     "output_type": "display_data"
    }
   ],
   "source": [
    "sb.distplot(prosper_clean.DebtToIncomeRatio, kde=False, rug=True);"
   ]
  },
  {
   "cell_type": "code",
   "execution_count": 98,
   "metadata": {},
   "outputs": [
    {
     "data": {
      "image/png": "[encoded data removed]",
      "text/plain": [
       "<Figure size 432x288 with 1 Axes>"
      ]
     },
     "metadata": {
      "needs_background": "light"
     },
     "output_type": "display_data"
    }
   ],
   "source": [
    "sb.distplot(prosper_clean.MonthlyLoanPayment, kde=False, rug=True);"
   ]
  },
  {
   "cell_type": "code",
   "execution_count": 95,
   "metadata": {},
   "outputs": [
    {
     "data": {
      "image/png": "[encoded data removed]",
      "text/plain": [
       "<Figure size 432x288 with 1 Axes>"
      ]
     },
     "metadata": {
      "needs_background": "light"
     },
     "output_type": "display_data"
    }
   ],
   "source": [
    "sb.distplot(prosper_clean.ScorexChangeAtTimeOfListing, kde=False, rug=True);"
   ]
  },
  {
   "cell_type": "code",
   "execution_count": 97,
   "metadata": {},
   "outputs": [
    {
     "data": {
      "image/png": "[encoded data removed]",
      "text/plain": [
       "<Figure size 432x288 with 1 Axes>"
      ]
     },
     "metadata": {
      "needs_background": "light"
     },
     "output_type": "display_data"
    }
   ],
   "source": [
    "sb.distplot(prosper_clean.LoanOriginalAmount, kde=False, rug=True);"
   ]
  },
  {
   "cell_type": "code",
   "execution_count": null,
   "metadata": {},
   "outputs": [],
   "source": []
  },
  {
   "cell_type": "markdown",
   "metadata": {},
   "source": [
    "> Make sure that, after every plot or related series of plots, that you\n",
    "include a Markdown cell with comments about what you observed, and what\n",
    "you plan on investigating next."
   ]
  },
  {
   "cell_type": "code",
   "execution_count": null,
   "metadata": {},
   "outputs": [],
   "source": []
  },
  {
   "cell_type": "markdown",
   "metadata": {},
   "source": [
    "### Discuss the distribution(s) of your variable(s) of interest. Were there any unusual points? Did you need to perform any transformations?\n",
    "\n",
    "> Your answer here!\n",
    "\n",
    "### Of the features you investigated, were there any unusual distributions? Did you perform any operations on the data to tidy, adjust, or change the form of the data? If so, why did you do this?\n",
    "\n",
    "> Your answer here!"
   ]
  },
  {
   "cell_type": "markdown",
   "metadata": {},
   "source": [
    "## Bivariate Exploration\n",
    "\n",
    "> In this section, investigate relationships between pairs of variables in your\n",
    "data. Make sure the variables that you cover here have been introduced in some\n",
    "fashion in the previous section (univariate exploration)."
   ]
  },
  {
   "cell_type": "code",
   "execution_count": 407,
   "metadata": {},
   "outputs": [],
   "source": [
    "numeric_vars = ['Term', 'BorrowerAPR', 'BorrowerRate', 'EstimatedReturn',\n",
    "                'InvestmentFromFriendsCount', 'Investors', \n",
    "               'PercentFunded']\n",
    "categoric_vars = ['LoanStatus', 'ListingCategory', 'BorrowerState', \n",
    "                  'CreditGrade', 'Occupation', 'EmploymentStatus', \n",
    "                  'EmploymentStatusDuration', 'IsBorrowerHomeowner', \n",
    "                  'IncomeRange', 'StatedMonthlyIncome']"
   ]
  },
  {
   "cell_type": "code",
   "execution_count": 408,
   "metadata": {},
   "outputs": [
    {
     "data": {
      "image/png": "[encoded data removed]",
      "text/plain": [
       "<Figure size 576x360 with 2 Axes>"
      ]
     },
     "metadata": {
      "needs_background": "light"
     },
     "output_type": "display_data"
    }
   ],
   "source": [
    "plt.figure(figsize = [8, 5])\n",
    "sb.heatmap(prosper_clean[numeric_vars].corr(), annot = True, fmt = '.3f',cmap = 'vlag_r', center = 0)\n",
    "plt.show()"
   ]
  },
  {
   "cell_type": "code",
   "execution_count": null,
   "metadata": {},
   "outputs": [],
   "source": []
  },
  {
   "cell_type": "markdown",
   "metadata": {},
   "source": [
    "### Talk about some of the relationships you observed in this part of the investigation. How did the feature(s) of interest vary with other features in the dataset?\n",
    "\n",
    "> Your answer here!\n",
    "\n",
    "### Did you observe any interesting relationships between the other features (not the main feature(s) of interest)?\n",
    "\n",
    "> Your answer here!"
   ]
  },
  {
   "cell_type": "markdown",
   "metadata": {},
   "source": [
    "## Multivariate Exploration\n",
    "\n",
    "> Create plots of three or more variables to investigate your data even\n",
    "further. Make sure that your investigations are justified, and follow from\n",
    "your work in the previous sections."
   ]
  },
  {
   "cell_type": "code",
   "execution_count": null,
   "metadata": {},
   "outputs": [],
   "source": []
  },
  {
   "cell_type": "markdown",
   "metadata": {},
   "source": [
    "### Talk about some of the relationships you observed in this part of the investigation. Were there features that strengthened each other in terms of looking at your feature(s) of interest?\n",
    "\n",
    "> Your answer here!\n",
    "\n",
    "### Were there any interesting or surprising interactions between features?\n",
    "\n",
    "> Your answer here!"
   ]
  },
  {
   "cell_type": "markdown",
   "metadata": {},
   "source": [
    "> At the end of your report, make sure that you export the notebook as an\n",
    "html file from the `File > Download as... > HTML` menu. Make sure you keep\n",
    "track of where the exported file goes, so you can put it in the same folder\n",
    "as this notebook for project submission. Also, make sure you remove all of\n",
    "the quote-formatted guide notes like this one before you finish your report!"
   ]
  },
  {
   "cell_type": "code",
   "execution_count": null,
   "metadata": {},
   "outputs": [],
   "source": []
  },
  {
   "cell_type": "code",
   "execution_count": null,
   "metadata": {},
   "outputs": [],
   "source": []
  },
  {
   "cell_type": "code",
   "execution_count": null,
   "metadata": {},
   "outputs": [],
   "source": []
  },
  {
   "cell_type": "code",
   "execution_count": null,
   "metadata": {},
   "outputs": [],
   "source": []
  },
  {
   "cell_type": "code",
   "execution_count": null,
   "metadata": {},
   "outputs": [],
   "source": []
  },
  {
   "cell_type": "code",
   "execution_count": null,
   "metadata": {},
   "outputs": [],
   "source": []
  },
  {
   "cell_type": "code",
   "execution_count": null,
   "metadata": {},
   "outputs": [],
   "source": []
  },
  {
   "cell_type": "code",
   "execution_count": null,
   "metadata": {},
   "outputs": [],
   "source": []
  },
  {
   "cell_type": "code",
   "execution_count": null,
   "metadata": {},
   "outputs": [],
   "source": []
  },
  {
   "cell_type": "code",
   "execution_count": null,
   "metadata": {},
   "outputs": [],
   "source": []
  },
  {
   "cell_type": "code",
   "execution_count": null,
   "metadata": {},
   "outputs": [],
   "source": []
  },
  {
   "cell_type": "markdown",
   "metadata": {},
   "source": [
    "> #### Citations:\n",
    "1. https://stackoverflow.com/questions/29803093/check-which-columns-in-dataframe-are-categorical?noredirect=1&lq=1\n",
    "2. https://stackoverflow.com/questions/33179122/seaborn-countplot-with-frequencies\n",
    "3. https://stackoverflow.com/questions/16180946/drawing-average-line-in-histogram-matplotlib\n"
   ]
  },
  {
   "cell_type": "code",
   "execution_count": null,
   "metadata": {},
   "outputs": [],
   "source": []
  }
 ],
 "metadata": {
  "kernelspec": {
   "display_name": "Python 3",
   "language": "python",
   "name": "python3"
  },
  "language_info": {
   "codemirror_mode": {
    "name": "ipython",
    "version": 3
   },
   "file_extension": ".py",
   "mimetype": "text/x-python",
   "name": "python",
   "nbconvert_exporter": "python",
   "pygments_lexer": "ipython3",
   "version": "3.7.1"
  }
 },
 "nbformat": 4,
 "nbformat_minor": 2
}
